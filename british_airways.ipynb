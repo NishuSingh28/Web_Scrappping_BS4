{
  "nbformat": 4,
  "nbformat_minor": 0,
  "metadata": {
    "colab": {
      "provenance": []
    },
    "kernelspec": {
      "name": "python3",
      "display_name": "Python 3"
    },
    "language_info": {
      "name": "python"
    }
  },
  "cells": [
    {
      "cell_type": "markdown",
      "source": [
        "### BRITISH AIRWAYS WEB SCRAPPING"
      ],
      "metadata": {
        "id": "r3evxKHusMl4"
      }
    },
    {
      "cell_type": "code",
      "execution_count": null,
      "metadata": {
        "id": "wozP74JeUUkU"
      },
      "outputs": [],
      "source": [
        "from bs4 import BeautifulSoup\n",
        "import requests \n",
        "import csv \n",
        "from csv import writer \n",
        "\n",
        "for i in range(1,349):\n",
        "  url = f\"https://www.airlinequality.com/airline-reviews/british-airways/page/{i}/\"  \n",
        "\n",
        "  page = requests.get(url).text\n",
        "  \n",
        "  soup = BeautifulSoup(page,'html.parser')\n",
        "\n",
        "  with open('Review.csv','a',encoding='utf-8',newline='') as f:\n",
        "        thewriter = csv.writer(f)\n",
        "        header = ['Review']\n",
        "        thewriter.writerow(header)\n",
        "\n",
        "        lists = []\n",
        "        lists = soup.find_all('div',class_=\"text_content\")\n",
        "        \n",
        "        for list in lists:\n",
        "            \n",
        "            review = (list.get_text().split(\"|\")[-1])\n",
        "            \n",
        "            thewriter.writerow([review])\n",
        "\n",
        "         "
      ]
    }
  ]
}